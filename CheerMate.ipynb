{
  "cells": [
    {
      "cell_type": "code",
      "execution_count": null,
      "metadata": {
        "colab": {
          "base_uri": "https://localhost:8080/"
        },
        "id": "LZPjZgJaRoai",
        "outputId": "80dad011-e86a-4309-ebca-a09db0088dca"
      },
      "outputs": [],
      "source": [
        "!pip install deepface opencv-python-headless"
      ]
    },
    {
      "cell_type": "code",
      "execution_count": null,
      "metadata": {
        "colab": {
          "base_uri": "https://localhost:8080/"
        },
        "id": "9cSx9nMUTKAe",
        "outputId": "b223e4e5-8d1b-412a-90ec-f2e373a2f444"
      },
      "outputs": [],
      "source": [
        "# Install necessary libraries\n",
        "!pip install opencv-python-headless deepface matplotlib\n",
        "import cv2\n",
        "from deepface import DeepFace\n",
        "import matplotlib.pyplot as plt\n",
        "from PIL import Image\n",
        "from google.colab.patches import cv2_imshow\n",
        "import numpy as np\n",
        "import urllib"
      ]
    },
    {
      "cell_type": "code",
      "execution_count": null,
      "metadata": {
        "colab": {
          "base_uri": "https://localhost:8080/"
        },
        "id": "1EorWfJfRYcw",
        "outputId": "be33fc56-1274-4ea5-e777-ea8d12cf694d"
      },
      "outputs": [],
      "source": [
        "!pip install mediapipe\n",
        "import mediapipe as mp"
      ]
    },
    {
      "cell_type": "code",
      "execution_count": null,
      "metadata": {
        "colab": {
          "base_uri": "https://localhost:8080/",
          "height": 1000
        },
        "id": "Set4Ga03VhaP",
        "outputId": "5f22f7cc-082e-4a19-8b49-49b68b8c9cfd"
      },
      "outputs": [],
      "source": [
        "from deepface import DeepFace\n",
        "import numpy as np\n",
        "from PIL import Image\n",
        "import urllib.request\n",
        "import cv2\n",
        "from google.colab.patches import cv2_imshow\n",
        "from IPython.display import display, Javascript, Image as IPImage\n",
        "import base64\n",
        "from io import BytesIO\n",
        "\n",
        "# Emotion-based responses with GIFs\n",
        "emotion_responses = {\n",
        "    \"sad\": {\n",
        "        \"message\": \"I know it's tough. Please smile, things will get better! 😊\",\n",
        "        \"image\": \"https://media.giphy.com/media/6Uqa3vLCikV1yNRmdU/giphy.gif\",\n",
        "    },\n",
        "    \"happy\": {\n",
        "        \"message\": \"You're doing great! Keep the positivity going! 🎉\",\n",
        "        \"image\": \"https://media.giphy.com/media/OvpA7YvA9INE7bgGOy/giphy.gif\",\n",
        "    },\n",
        "    \"angry\": {\n",
        "        \"message\": \"Take a deep breath and let go of the stress. You’ve got this! 💪\",\n",
        "        \"image\": \"https://media.giphy.com/media/vqvmGLZdqxNzCtVlR3/giphy.gif\",\n",
        "    },\n",
        "    \"surprise\": {\n",
        "        \"message\": \"Wow, something amazing must be happening! Enjoy the moment! 🎊\",\n",
        "        \"image\": \"https://media.giphy.com/media/cKfkw1pp9R5SX7hDl1/giphy.gif\",\n",
        "    },\n",
        "    \"fear\": {\n",
        "        \"message\": \"It's okay to feel scared. You are stronger than you think! 🌟\",\n",
        "        \"image\": \"https://media.giphy.com/media/sNPeJFq6YNEvLZdcqX/giphy.gif\",\n",
        "    },\n",
        "    \"disgust\": {\n",
        "        \"message\": \"Shake it off! Better things are waiting for you! 🌈\",\n",
        "        \"image\": \"https://media.giphy.com/media/v1.Y2lkPTc5MGI3NjExYnNudjAzNm11d2h1NmJmdW55cW9sM2Q0bWFxdzhnZHEzaHp6ejRreCZlcD12MV9naWZzX3NlYXJjaCZjdD1n/OrWYyUFkBhxlDPdmoy/giphy.gif\",\n",
        "    },\n",
        "    \"neutral\": {\n",
        "        \"message\": \"Just breathe and take things one step at a time. You've got this! 😊\",\n",
        "        \"image\": \"https://media.giphy.com/media/9CGOSBk40bQfLrfBsf/giphy.gif\",\n",
        "    }\n",
        "}\n",
        "\n",
        "# Function to capture image from webcam and display\n",
        "def capture_image_from_webcam():\n",
        "    display(Javascript(\"\"\"\n",
        "        (function() {\n",
        "            navigator.mediaDevices.getUserMedia({ video: true })\n",
        "            .then(function(stream) {\n",
        "                var video = document.createElement('video');\n",
        "                video.srcObject = stream;\n",
        "                video.play();\n",
        "                document.body.appendChild(video);\n",
        "                var captureBtn = document.createElement('button');\n",
        "                captureBtn.innerHTML = 'Capture Image';\n",
        "                document.body.appendChild(captureBtn);\n",
        "                captureBtn.addEventListener('click', function() {\n",
        "                    var canvas = document.createElement('canvas');\n",
        "                    canvas.width = video.videoWidth;\n",
        "                    canvas.height = video.videoHeight;\n",
        "                    canvas.getContext('2d').drawImage(video, 0, 0);\n",
        "                    var imageData = canvas.toDataURL('image/png');\n",
        "                    google.colab.kernel.invokeFunction('notebook.capture_image', [imageData], {});\n",
        "                    stream.getTracks().forEach(track => track.stop());\n",
        "                    video.remove();\n",
        "                    captureBtn.remove();\n",
        "                });\n",
        "            });\n",
        "        })();\n",
        "    \"\"\"))\n",
        "\n",
        "# Function to capture image and analyze emotion\n",
        "def capture_image(image_data):\n",
        "    # Decode the base64 image data\n",
        "    img_data = image_data.split(\",\")[1]\n",
        "    img = Image.open(BytesIO(base64.b64decode(img_data)))\n",
        "    img = np.array(img)\n",
        "\n",
        "    # Preprocess image if needed\n",
        "    if img.shape[2] != 3:\n",
        "        img = cv2.cvtColor(img, cv2.COLOR_BGR2RGB)\n",
        "\n",
        "    # Analyze the emotions in the frame using DeepFace\n",
        "    try:\n",
        "        analysis = DeepFace.analyze(img, actions=['emotion'], enforce_detection=False)\n",
        "        dominant_emotion = analysis[0]['dominant_emotion']\n",
        "        print(f\"Dominant Emotion: {dominant_emotion}\")\n",
        "    except Exception as e:\n",
        "        print(f\"Error: {e}\")\n",
        "        dominant_emotion = \"neutral\"\n",
        "\n",
        "    # Display the emotion-based message and GIF\n",
        "    display_emotion_message(dominant_emotion)\n",
        "\n",
        "    # Show the captured image using OpenCV\n",
        "    cv2_imshow(img)\n",
        "\n",
        "# Function to display the emotion-based message and GIF\n",
        "def display_emotion_message(emotion):\n",
        "    response = emotion_responses.get(emotion, emotion_responses[\"neutral\"])\n",
        "\n",
        "    # Display message and GIF\n",
        "    print(response[\"message\"])\n",
        "    display(IPImage(url=response[\"image\"]))\n",
        "\n",
        "# Register the capture image function in Colab\n",
        "output.register_callback('notebook.capture_image', capture_image)\n",
        "\n",
        "# Trigger webcam capture\n",
        "capture_image_from_webcam()\n"
      ]
    }
  ],
  "metadata": {
    "colab": {
      "provenance": [],
      "toc_visible": true
    },
    "kernelspec": {
      "display_name": "Python 3",
      "name": "python3"
    },
    "language_info": {
      "codemirror_mode": {
        "name": "ipython",
        "version": 3
      },
      "file_extension": ".py",
      "mimetype": "text/x-python",
      "name": "python",
      "nbconvert_exporter": "python",
      "pygments_lexer": "ipython3",
      "version": "3.10.0"
    }
  },
  "nbformat": 4,
  "nbformat_minor": 0
}
